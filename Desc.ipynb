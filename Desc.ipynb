{
 "cells": [
  {
   "cell_type": "markdown",
   "metadata": {},
   "source": [
    "## ONA Support and Data Intern Assignment\n",
    "\n",
    "1.calculate the number of private and public schoools per district?\n",
    "2.Calculate the percent of private and public schools per district?\n",
    "3.Plot a chart of your choice to show the above information in steps 1 and 2\n",
    "\n",
    "I humbly ask that you check my progress and advice "
   ]
  },
  {
   "cell_type": "markdown",
   "metadata": {},
   "source": [
    "### Loading Libraries"
   ]
  },
  {
   "cell_type": "code",
   "execution_count": 6,
   "metadata": {},
   "outputs": [],
   "source": [
    "import pandas as pd\n",
    "import matplotlib.pyplot as plt\n",
    "%matplotlib inline\n",
    "import seaborn as sns\n",
    "import os"
   ]
  },
  {
   "cell_type": "markdown",
   "metadata": {},
   "source": [
    "### Loading data & Viewing top 5"
   ]
  },
  {
   "cell_type": "code",
   "execution_count": 3,
   "metadata": {},
   "outputs": [
    {
     "data": {
      "text/html": [
       "<div>\n",
       "<style scoped>\n",
       "    .dataframe tbody tr th:only-of-type {\n",
       "        vertical-align: middle;\n",
       "    }\n",
       "\n",
       "    .dataframe tbody tr th {\n",
       "        vertical-align: top;\n",
       "    }\n",
       "\n",
       "    .dataframe thead th {\n",
       "        text-align: right;\n",
       "    }\n",
       "</style>\n",
       "<table border=\"1\" class=\"dataframe\">\n",
       "  <thead>\n",
       "    <tr style=\"text-align: right;\">\n",
       "      <th></th>\n",
       "      <th>name_of_school</th>\n",
       "      <th>school_code</th>\n",
       "      <th>location/province</th>\n",
       "      <th>location/district</th>\n",
       "      <th>location/gps</th>\n",
       "      <th>location/_gps_latitude</th>\n",
       "      <th>location/_gps_longitude</th>\n",
       "      <th>location/_gps_altitude</th>\n",
       "      <th>location/_gps_precision</th>\n",
       "      <th>public_private</th>\n",
       "      <th>...</th>\n",
       "      <th>_submission_time</th>\n",
       "      <th>_tags</th>\n",
       "      <th>_notes</th>\n",
       "      <th>_version</th>\n",
       "      <th>_duration</th>\n",
       "      <th>_submitted_by</th>\n",
       "      <th>_total_media</th>\n",
       "      <th>_media_count</th>\n",
       "      <th>_media_all_received</th>\n",
       "      <th>_xform_id</th>\n",
       "    </tr>\n",
       "  </thead>\n",
       "  <tbody>\n",
       "    <tr>\n",
       "      <th>0</th>\n",
       "      <td>karucho primary</td>\n",
       "      <td>622</td>\n",
       "      <td>central</td>\n",
       "      <td>kirinyaga</td>\n",
       "      <td>-0.504939 37.385198</td>\n",
       "      <td>NaN</td>\n",
       "      <td>NaN</td>\n",
       "      <td>NaN</td>\n",
       "      <td>NaN</td>\n",
       "      <td>public</td>\n",
       "      <td>...</td>\n",
       "      <td>2013-03-04T08:22:55</td>\n",
       "      <td>NaN</td>\n",
       "      <td>NaN</td>\n",
       "      <td>201605172039</td>\n",
       "      <td>NaN</td>\n",
       "      <td>NaN</td>\n",
       "      <td>NaN</td>\n",
       "      <td>NaN</td>\n",
       "      <td>NaN</td>\n",
       "      <td>NaN</td>\n",
       "    </tr>\n",
       "    <tr>\n",
       "      <th>1</th>\n",
       "      <td>kahuru primary</td>\n",
       "      <td>800</td>\n",
       "      <td>central</td>\n",
       "      <td>nyeri</td>\n",
       "      <td>-0.458342 37.16117</td>\n",
       "      <td>NaN</td>\n",
       "      <td>NaN</td>\n",
       "      <td>NaN</td>\n",
       "      <td>NaN</td>\n",
       "      <td>public</td>\n",
       "      <td>...</td>\n",
       "      <td>2013-03-04T08:23:27</td>\n",
       "      <td>NaN</td>\n",
       "      <td>NaN</td>\n",
       "      <td>201605172039</td>\n",
       "      <td>NaN</td>\n",
       "      <td>NaN</td>\n",
       "      <td>NaN</td>\n",
       "      <td>NaN</td>\n",
       "      <td>NaN</td>\n",
       "      <td>NaN</td>\n",
       "    </tr>\n",
       "    <tr>\n",
       "      <th>2</th>\n",
       "      <td>gatugura primary</td>\n",
       "      <td>673</td>\n",
       "      <td>central</td>\n",
       "      <td>kirinyaga</td>\n",
       "      <td>-0.452951 37.312176</td>\n",
       "      <td>NaN</td>\n",
       "      <td>NaN</td>\n",
       "      <td>NaN</td>\n",
       "      <td>NaN</td>\n",
       "      <td>public</td>\n",
       "      <td>...</td>\n",
       "      <td>2013-03-04T08:23:14</td>\n",
       "      <td>NaN</td>\n",
       "      <td>NaN</td>\n",
       "      <td>201605172039</td>\n",
       "      <td>NaN</td>\n",
       "      <td>NaN</td>\n",
       "      <td>NaN</td>\n",
       "      <td>NaN</td>\n",
       "      <td>NaN</td>\n",
       "      <td>NaN</td>\n",
       "    </tr>\n",
       "    <tr>\n",
       "      <th>3</th>\n",
       "      <td>gitumbi sda primary</td>\n",
       "      <td>637</td>\n",
       "      <td>central</td>\n",
       "      <td>kirinyaga</td>\n",
       "      <td>-0.418671 37.394661</td>\n",
       "      <td>NaN</td>\n",
       "      <td>NaN</td>\n",
       "      <td>NaN</td>\n",
       "      <td>NaN</td>\n",
       "      <td>private</td>\n",
       "      <td>...</td>\n",
       "      <td>2013-03-04T08:22:51</td>\n",
       "      <td>NaN</td>\n",
       "      <td>NaN</td>\n",
       "      <td>201605172039</td>\n",
       "      <td>NaN</td>\n",
       "      <td>NaN</td>\n",
       "      <td>NaN</td>\n",
       "      <td>NaN</td>\n",
       "      <td>NaN</td>\n",
       "      <td>NaN</td>\n",
       "    </tr>\n",
       "    <tr>\n",
       "      <th>4</th>\n",
       "      <td>rev wajee elite academy primary school</td>\n",
       "      <td>51</td>\n",
       "      <td>central</td>\n",
       "      <td>nyeri</td>\n",
       "      <td>-0.564946 37.079286</td>\n",
       "      <td>NaN</td>\n",
       "      <td>NaN</td>\n",
       "      <td>NaN</td>\n",
       "      <td>NaN</td>\n",
       "      <td>private</td>\n",
       "      <td>...</td>\n",
       "      <td>2013-03-04T08:14:26</td>\n",
       "      <td>NaN</td>\n",
       "      <td>NaN</td>\n",
       "      <td>201605172039</td>\n",
       "      <td>NaN</td>\n",
       "      <td>NaN</td>\n",
       "      <td>NaN</td>\n",
       "      <td>NaN</td>\n",
       "      <td>NaN</td>\n",
       "      <td>NaN</td>\n",
       "    </tr>\n",
       "  </tbody>\n",
       "</table>\n",
       "<p>5 rows × 35 columns</p>\n",
       "</div>"
      ],
      "text/plain": [
       "                           name_of_school  school_code location/province  \\\n",
       "0                         karucho primary          622           central   \n",
       "1                          kahuru primary          800           central   \n",
       "2                        gatugura primary          673           central   \n",
       "3                     gitumbi sda primary          637           central   \n",
       "4  rev wajee elite academy primary school           51           central   \n",
       "\n",
       "  location/district         location/gps  location/_gps_latitude  \\\n",
       "0         kirinyaga  -0.504939 37.385198                     NaN   \n",
       "1             nyeri   -0.458342 37.16117                     NaN   \n",
       "2         kirinyaga  -0.452951 37.312176                     NaN   \n",
       "3         kirinyaga  -0.418671 37.394661                     NaN   \n",
       "4             nyeri  -0.564946 37.079286                     NaN   \n",
       "\n",
       "   location/_gps_longitude  location/_gps_altitude  location/_gps_precision  \\\n",
       "0                      NaN                     NaN                      NaN   \n",
       "1                      NaN                     NaN                      NaN   \n",
       "2                      NaN                     NaN                      NaN   \n",
       "3                      NaN                     NaN                      NaN   \n",
       "4                      NaN                     NaN                      NaN   \n",
       "\n",
       "  public_private    ...         _submission_time _tags _notes      _version  \\\n",
       "0         public    ...      2013-03-04T08:22:55   NaN    NaN  201605172039   \n",
       "1         public    ...      2013-03-04T08:23:27   NaN    NaN  201605172039   \n",
       "2         public    ...      2013-03-04T08:23:14   NaN    NaN  201605172039   \n",
       "3        private    ...      2013-03-04T08:22:51   NaN    NaN  201605172039   \n",
       "4        private    ...      2013-03-04T08:14:26   NaN    NaN  201605172039   \n",
       "\n",
       "   _duration  _submitted_by  _total_media  _media_count  _media_all_received  \\\n",
       "0        NaN            NaN           NaN           NaN                  NaN   \n",
       "1        NaN            NaN           NaN           NaN                  NaN   \n",
       "2        NaN            NaN           NaN           NaN                  NaN   \n",
       "3        NaN            NaN           NaN           NaN                  NaN   \n",
       "4        NaN            NaN           NaN           NaN                  NaN   \n",
       "\n",
       "   _xform_id  \n",
       "0        NaN  \n",
       "1        NaN  \n",
       "2        NaN  \n",
       "3        NaN  \n",
       "4        NaN  \n",
       "\n",
       "[5 rows x 35 columns]"
      ]
     },
     "execution_count": 3,
     "metadata": {},
     "output_type": "execute_result"
    }
   ],
   "source": [
    "df = pd.read_csv(\"kenya_prim_school_survey-2019-05-20-05-53-08.csv\")\n",
    "df.head()"
   ]
  },
  {
   "cell_type": "markdown",
   "metadata": {},
   "source": [
    "### Summary Table of Location & Type of schools"
   ]
  },
  {
   "cell_type": "code",
   "execution_count": 4,
   "metadata": {},
   "outputs": [
    {
     "data": {
      "text/html": [
       "<div>\n",
       "<style scoped>\n",
       "    .dataframe tbody tr th:only-of-type {\n",
       "        vertical-align: middle;\n",
       "    }\n",
       "\n",
       "    .dataframe tbody tr th {\n",
       "        vertical-align: top;\n",
       "    }\n",
       "\n",
       "    .dataframe thead th {\n",
       "        text-align: right;\n",
       "    }\n",
       "</style>\n",
       "<table border=\"1\" class=\"dataframe\">\n",
       "  <thead>\n",
       "    <tr style=\"text-align: right;\">\n",
       "      <th>public_private</th>\n",
       "      <th>private</th>\n",
       "      <th>public</th>\n",
       "      <th>Total</th>\n",
       "    </tr>\n",
       "    <tr>\n",
       "      <th>location/district</th>\n",
       "      <th></th>\n",
       "      <th></th>\n",
       "      <th></th>\n",
       "    </tr>\n",
       "  </thead>\n",
       "  <tbody>\n",
       "    <tr>\n",
       "      <th>isiolo</th>\n",
       "      <td>1</td>\n",
       "      <td>0</td>\n",
       "      <td>1</td>\n",
       "    </tr>\n",
       "    <tr>\n",
       "      <th>kirinyaga</th>\n",
       "      <td>3</td>\n",
       "      <td>12</td>\n",
       "      <td>15</td>\n",
       "    </tr>\n",
       "    <tr>\n",
       "      <th>maragua</th>\n",
       "      <td>3</td>\n",
       "      <td>22</td>\n",
       "      <td>25</td>\n",
       "    </tr>\n",
       "    <tr>\n",
       "      <th>nyandarua</th>\n",
       "      <td>1</td>\n",
       "      <td>4</td>\n",
       "      <td>5</td>\n",
       "    </tr>\n",
       "    <tr>\n",
       "      <th>nyeri</th>\n",
       "      <td>3</td>\n",
       "      <td>10</td>\n",
       "      <td>13</td>\n",
       "    </tr>\n",
       "    <tr>\n",
       "      <th>thika</th>\n",
       "      <td>1</td>\n",
       "      <td>0</td>\n",
       "      <td>1</td>\n",
       "    </tr>\n",
       "    <tr>\n",
       "      <th>Total</th>\n",
       "      <td>12</td>\n",
       "      <td>48</td>\n",
       "      <td>60</td>\n",
       "    </tr>\n",
       "  </tbody>\n",
       "</table>\n",
       "</div>"
      ],
      "text/plain": [
       "public_private     private  public  Total\n",
       "location/district                        \n",
       "isiolo                   1       0      1\n",
       "kirinyaga                3      12     15\n",
       "maragua                  3      22     25\n",
       "nyandarua                1       4      5\n",
       "nyeri                    3      10     13\n",
       "thika                    1       0      1\n",
       "Total                   12      48     60"
      ]
     },
     "execution_count": 4,
     "metadata": {},
     "output_type": "execute_result"
    }
   ],
   "source": [
    "tab = pd.crosstab(df[\"location/district\"],df[\"public_private\"],margins=True,margins_name=\"Total\")\n",
    "tab"
   ]
  },
  {
   "cell_type": "markdown",
   "metadata": {},
   "source": [
    "#### Visualize the Contigency Table above"
   ]
  },
  {
   "cell_type": "code",
   "execution_count": 5,
   "metadata": {},
   "outputs": [
    {
     "data": {
      "text/plain": [
       "<matplotlib.axes._subplots.AxesSubplot at 0x1076ba110>"
      ]
     },
     "execution_count": 5,
     "metadata": {},
     "output_type": "execute_result"
    },
    {
     "data": {
      "image/png": "[encoded data removed]",
      "text/plain": [
       "<Figure size 432x288 with 1 Axes>"
      ]
     },
     "metadata": {},
     "output_type": "display_data"
    }
   ],
   "source": [
    "pd.crosstab(df[\"location/district\"],df[\"public_private\"]).plot.bar()"
   ]
  },
  {
   "cell_type": "markdown",
   "metadata": {},
   "source": [
    "#### 2.Calculate the percent of private and public schools per district?"
   ]
  },
  {
   "cell_type": "code",
   "execution_count": 18,
   "metadata": {},
   "outputs": [
    {
     "data": {
      "image/png": "[encoded data removed]",
      "text/plain": [
       "<Figure size 1221.88x288 with 1 Axes>"
      ]
     },
     "metadata": {},
     "output_type": "display_data"
    }
   ],
   "source": [
    "with sns.axes_style('white'):\n",
    "    g = sns.factorplot(\"location/district\", data=df, aspect=4.0, kind='count',\n",
    "                       hue='public_private')\n",
    "    g.set_ylabels('Sales Condition Count')"
   ]
  },
  {
   "cell_type": "markdown",
   "metadata": {},
   "source": [
    "#### Schools Distribution"
   ]
  },
  {
   "cell_type": "code",
   "execution_count": 11,
   "metadata": {
    "scrolled": true
   },
   "outputs": [
    {
     "data": {
      "image/png": "[encoded data removed]",
      "text/plain": [
       "<Figure size 432x288 with 1 Axes>"
      ]
     },
     "metadata": {},
     "output_type": "display_data"
    }
   ],
   "source": [
    "\n",
    "ax = sns.countplot(y=\"public_private\", data=df)\n",
    "plt.title('Distribution of  Schools')\n",
    "plt.xlabel('Number of Axles')\n",
    "\n",
    "total = len(df['public_private'])\n",
    "for p in ax.patches:\n",
    "        percentage = '{:.1f}%'.format(100 * p.get_width()/total)\n",
    "        x = p.get_x() + p.get_width() + 0.02\n",
    "        y = p.get_y() + p.get_height()/2\n",
    "        ax.annotate(percentage, (x, y))"
   ]
  },
  {
   "cell_type": "markdown",
   "metadata": {},
   "source": [
    "#### Region Distribution"
   ]
  },
  {
   "cell_type": "code",
   "execution_count": 28,
   "metadata": {},
   "outputs": [
    {
     "data": {
      "image/png": "[encoded data removed]",
      "text/plain": [
       "<Figure size 432x288 with 1 Axes>"
      ]
     },
     "metadata": {},
     "output_type": "display_data"
    }
   ],
   "source": [
    "ax = sns.countplot(y=\"location/district\", data=df)\n",
    "plt.title('Distribution of  Regions')\n",
    "plt.xlabel('Number of Axles')\n",
    "\n",
    "total = len(df['location/district'])\n",
    "for p in ax.patches:\n",
    "        percentage = '{:.1f}%'.format(100 * p.get_width()/total)\n",
    "        x = p.get_x() + p.get_width() + 0.02\n",
    "        y = p.get_y() + p.get_height()/2\n",
    "        ax.annotate(percentage, (x, y))"
   ]
  },
  {
   "cell_type": "code",
   "execution_count": 24,
   "metadata": {},
   "outputs": [
    {
     "data": {
      "image/png": "[encoded data removed]",
      "text/plain": [
       "<Figure size 432x288 with 1 Axes>"
      ]
     },
     "metadata": {},
     "output_type": "display_data"
    }
   ],
   "source": [
    "occupation_counts = (df.groupby(['location/district'])['public_private']\n",
    "                     .value_counts(normalize=True)\n",
    "                     .rename('percentage')\n",
    "                     .mul(100)\n",
    "                     .reset_index()\n",
    "                     .sort_values('public_private'))\n",
    "p = sns.barplot(x=\"public_private\", y=\"percentage\", hue=\"location/district\", data=occupation_counts)\n",
    "_ = plt.setp(p.get_xticklabels(), rotation=0)"
   ]
  },
  {
   "cell_type": "code",
   "execution_count": 30,
   "metadata": {},
   "outputs": [
    {
     "data": {
      "image/png": "[encoded data removed]",
      "text/plain": [
       "<Figure size 432x288 with 1 Axes>"
      ]
     },
     "metadata": {},
     "output_type": "display_data"
    }
   ],
   "source": [
    "occupation_counts = (df.groupby(['location/district'])['public_private']\n",
    "                     .value_counts(normalize=True)\n",
    "                     .rename('percentage')\n",
    "                     .mul(100)\n",
    "                     .reset_index()\n",
    "                     .sort_values('public_private'))\n",
    "p = sns.barplot(x=\"location/district\", y=\"percentage\", hue=\"public_private\", data=occupation_counts)\n",
    "_ = plt.setp(p.get_xticklabels(), rotation=0)  # Rotate labels"
   ]
  },
  {
   "cell_type": "code",
   "execution_count": null,
   "metadata": {},
   "outputs": [],
   "source": []
  }
 ],
 "metadata": {
  "kernelspec": {
   "display_name": "Python 2",
   "language": "python",
   "name": "python2"
  },
  "language_info": {
   "codemirror_mode": {
    "name": "ipython",
    "version": 2
   },
   "file_extension": ".py",
   "mimetype": "text/x-python",
   "name": "python",
   "nbconvert_exporter": "python",
   "pygments_lexer": "ipython2",
   "version": "2.7.15"
  }
 },
 "nbformat": 4,
 "nbformat_minor": 2
}
