{
 "cells": [
  {
   "cell_type": "markdown",
   "metadata": {},
   "source": [
    "# NUMPY FUNCTIONS FOR DATA SCIENCE\n",
    "\n",
    "## https://docs.scipy.org/doc/numpy-1.13.0/reference/routines.math.html\n",
    "\n",
    "## Mathematical functions"
   ]
  },
  {
   "cell_type": "markdown",
   "metadata": {},
   "source": [
    "### Trigonometric functions\n",
    "sin(x, /[, out, where, casting, order, ...]) \tTrigonometric sine, element-wise.\n",
    "cos(x, /[, out, where, casting, order, ...]) \tCosine element-wise.\n",
    "tan(x, /[, out, where, casting, order, ...]) \tCompute tangent element-wise."
   ]
  },
  {
   "cell_type": "markdown",
   "metadata": {},
   "source": [
    "### Hyperbolic functions\n",
    "sinh(x, /[, out, where, casting, order, ...]) \tHyperbolic sine, element-wise.\n",
    "cosh(x, /[, out, where, casting, order, ...]) \tHyperbolic cosine, element-wise.\n",
    "tanh(x, /[, out, where, casting, order, ...]) \tCompute hyperbolic tangent element-wise."
   ]
  },
  {
   "cell_type": "markdown",
   "metadata": {},
   "source": [
    "### Rounding\n",
    "around(a[, decimals, out]) \tEvenly round to the given number of decimals.\n",
    "round_(a[, decimals, out]) \tRound an array to the given number of decimals.\n",
    "rint(x, /[, out, where, casting, order, ...]) \tRound elements of the array to the nearest integer.\n",
    "fix(x[, out]) \tRound to nearest integer towards zero.\n",
    "floor(x, /[, out, where, casting, order, ...]) \tReturn the floor of the input, element-wise.\n",
    "ceil(x, /[, out, where, casting, order, ...]) \tReturn the ceiling of the input, element-wise.\n",
    "trunc(x, /[, out, where, casting, order, ...]) \tReturn the truncated value of the input, element-wise."
   ]
  },
  {
   "cell_type": "markdown",
   "metadata": {},
   "source": [
    "### Sums, products, differences¶\n",
    "prod(a[, axis, dtype, out, keepdims]) \tReturn the product of array elements over a given axis.\n",
    "sum(a[, axis, dtype, out, keepdims]) \tSum of array elements over a given axis.\n",
    "nanprod(a[, axis, dtype, out, keepdims]) \tReturn the product of array elements over a given axis treating Not a Numbers (NaNs) as ones.\n",
    "nansum(a[, axis, dtype, out, keepdims]) \tReturn the sum of array elements over a given axis treating Not a Numbers (NaNs) as zero.\n",
    "cumprod(a[, axis, dtype, out]) \tReturn the cumulative product of elements along a given axis.\n",
    "cumsum(a[, axis, dtype, out]) \tReturn the cumulative sum of the elements along a given axis.\n",
    "nancumprod(a[, axis, dtype, out]) \tReturn the cumulative product of array elements over a given axis treating Not a Numbers (NaNs) as one.\n",
    "nancumsum(a[, axis, dtype, out]) \tReturn the cumulative sum of array elements over a given axis treating Not a Numbers (NaNs) as zero.\n",
    "diff(a[, n, axis]) \tCalculate the n-th discrete difference along given axis.\n",
    "ediff1d(ary[, to_end, to_begin]) \tThe differences between consecutive elements of an array.\n",
    "gradient(f, *varargs, **kwargs) \tReturn the gradient of an N-dimensional array.\n",
    "cross(a, b[, axisa, axisb, axisc, axis]) \tReturn the cross product of two (arrays of) vectors.\n",
    "trapz(y[, x, dx, axis]) \tIntegrate along the given axis using the composite trapezoidal rule."
   ]
  },
  {
   "cell_type": "markdown",
   "metadata": {},
   "source": [
    "### Exponents and logarithms\n",
    "exp(x, /[, out, where, casting, order, ...]) \tCalculate the exponential of all elements in the input array.\n",
    "expm1(x, /[, out, where, casting, order, ...]) \tCalculate exp(x) - 1 for all elements in the array.\n",
    "exp2(x, /[, out, where, casting, order, ...]) \tCalculate 2**p for all p in the input array.\n",
    "log(x, /[, out, where, casting, order, ...]) \tNatural logarithm, element-wise.\n",
    "log10(x, /[, out, where, casting, order, ...]) \tReturn the base 10 logarithm of the input array, element-wise.\n",
    "log2(x, /[, out, where, casting, order, ...]) \tBase-2 logarithm of x."
   ]
  },
  {
   "cell_type": "markdown",
   "metadata": {},
   "source": [
    "### Arithmetic operations\n",
    "add(x1, x2, /[, out, where, casting, order, ...]) \tAdd arguments element-wise.\n",
    "reciprocal(x, /[, out, where, casting, ...]) \tReturn the reciprocal of the argument, element-wise.\n",
    "negative(x, /[, out, where, casting, order, ...]) \tNumerical negative, element-wise.\n",
    "multiply(x1, x2, /[, out, where, casting, ...]) \tMultiply arguments element-wise.\n",
    "divide(x1, x2, /[, out, where, casting, ...]) \tDivide arguments element-wise.\n",
    "power(x1, x2, /[, out, where, casting, ...]) \tFirst array elements raised to powers from second array, element-wise.\n",
    "subtract(x1, x2, /[, out, where, casting, ...]) \tSubtract arguments, element-wise.\n",
    "true_divide(x1, x2, /[, out, where, ...]) \tReturns a true division of the inputs, element-wise.\n",
    "floor_divide(x1, x2, /[, out, where, ...]) \tReturn the largest integer smaller or equal to the division of the inputs.\n",
    "float_power(x1, x2, /[, out, where, ...]) \tFirst array elements raised to powers from second array, element-wise.\n",
    "fmod(x1, x2, /[, out, where, casting, ...]) \tReturn the element-wise remainder of division.\n",
    "mod(x1, x2, /[, out, where, casting, order, ...]) \tReturn element-wise remainder of division.\n",
    "modf(x[, out1, out2], / [[, out, where, ...]) \tReturn the fractional and integral parts of an array, element-wise.\n",
    "remainder(x1, x2, /[, out, where, casting, ...]) \tReturn element-wise remainder of division.\n",
    "divmod(x1, x2[, out1, out2], / [[, out, ...]) \tReturn element-wise quotient and remainder simultaneously."
   ]
  },
  {
   "cell_type": "markdown",
   "metadata": {},
   "source": [
    "### Handling complex numbers\n",
    "angle(z[, deg]) \tReturn the angle of the complex argument.\n",
    "real(val) \tReturn the real part of the complex argument.\n",
    "imag(val) \tReturn the imaginary part of the complex argument.\n",
    "conj(x, /[, out, where, casting, order, ...]) \tReturn the complex conjugate, element-wise. "
   ]
  },
  {
   "cell_type": "markdown",
   "metadata": {},
   "source": [
    "### Miscellaneous\n",
    "convolve(a, v[, mode]) \tReturns the discrete, linear convolution of two one-dimensional sequences.\n",
    "clip(a, a_min, a_max[, out]) \tClip (limit) the values in an array.\n",
    "sqrt(x, /[, out, where, casting, order, ...]) \tReturn the positive square-root of an array, element-wise.\n",
    "cbrt(x, /[, out, where, casting, order, ...]) \tReturn the cube-root of an array, element-wise.\n",
    "square(x, /[, out, where, casting, order, ...]) \tReturn the element-wise square of the input.\n",
    "absolute(x, /[, out, where, casting, order, ...]) \tCalculate the absolute value element-wise.\n",
    "fabs(x, /[, out, where, casting, order, ...]) \tCompute the absolute values element-wise.\n",
    "sign(x, /[, out, where, casting, order, ...]) \tReturns an element-wise indication of the sign of a number.\n",
    "heaviside(x1, x2, /[, out, where, casting, ...]) \tCompute the Heaviside step function.\n",
    "maximum(x1, x2, /[, out, where, casting, ...]) \tElement-wise maximum of array elements.\n",
    "minimum(x1, x2, /[, out, where, casting, ...]) \tElement-wise minimum of array elements.\n",
    "fmax(x1, x2, /[, out, where, casting, ...]) \tElement-wise maximum of array elements.\n",
    "fmin(x1, x2, /[, out, where, casting, ...]) \tElement-wise minimum of array elements.\n",
    "nan_to_num(x[, copy]) \tReplace nan with zero and inf with finite numbers.\n",
    "real_if_close(a[, tol]) \tIf complex input returns a real array if complex parts are close to zero.\n",
    "interp(x, xp, fp[, left, right, period]) \tOne-dimensional linear interpolation."
   ]
  },
  {
   "cell_type": "code",
   "execution_count": 1,
   "metadata": {},
   "outputs": [],
   "source": [
    "# Importing libraries\n",
    "import pandas as pd\n",
    "import numpy as np\n",
    "import math\n",
    "import operator\n",
    "import os"
   ]
  },
  {
   "cell_type": "code",
   "execution_count": 2,
   "metadata": {},
   "outputs": [
    {
     "data": {
      "text/plain": [
       "2"
      ]
     },
     "execution_count": 2,
     "metadata": {},
     "output_type": "execute_result"
    }
   ],
   "source": [
    "#reminder in a division\n",
    "np.remainder(5,3)"
   ]
  },
  {
   "cell_type": "code",
   "execution_count": 3,
   "metadata": {},
   "outputs": [
    {
     "data": {
      "text/plain": [
       "55"
      ]
     },
     "execution_count": 3,
     "metadata": {},
     "output_type": "execute_result"
    }
   ],
   "source": [
    "#summing values in an array\n",
    "mynums = [1,2,3,4,5,6,7,8,9,10 \n",
    "np.sum(mynums)"
   ]
  },
  {
   "cell_type": "code",
   "execution_count": 4,
   "metadata": {},
   "outputs": [
    {
     "data": {
      "text/plain": [
       "8"
      ]
     },
     "execution_count": 4,
     "metadata": {},
     "output_type": "execute_result"
    }
   ],
   "source": [
    "# adding two values\n",
    "np.add(3,5)"
   ]
  },
  {
   "cell_type": "code",
   "execution_count": 9,
   "metadata": {},
   "outputs": [
    {
     "data": {
      "text/plain": [
       "-0.9524129804151563"
      ]
     },
     "execution_count": 9,
     "metadata": {},
     "output_type": "execute_result"
    }
   ],
   "source": [
    "#Trigonometry Cosine\n",
    "np.cos(60)"
   ]
  },
  {
   "cell_type": "code",
   "execution_count": 10,
   "metadata": {},
   "outputs": [
    {
     "data": {
      "text/plain": [
       "-0.9880316240928618"
      ]
     },
     "execution_count": 10,
     "metadata": {},
     "output_type": "execute_result"
    }
   ],
   "source": [
    "#Trigonometry Sine\n",
    "np.sin(30)"
   ]
  },
  {
   "cell_type": "code",
   "execution_count": 14,
   "metadata": {},
   "outputs": [
    {
     "data": {
      "text/plain": [
       "array([0., 1., 3., 9.])"
      ]
     },
     "execution_count": 14,
     "metadata": {},
     "output_type": "execute_result"
    }
   ],
   "source": [
    "#Round down\n",
    "myarray = [0.4,1.7,3.01,9.9]\n",
    "np.floor(myarray)"
   ]
  },
  {
   "cell_type": "code",
   "execution_count": 15,
   "metadata": {},
   "outputs": [
    {
     "data": {
      "text/plain": [
       "array([ 1.,  2.,  4., 10.])"
      ]
     },
     "execution_count": 15,
     "metadata": {},
     "output_type": "execute_result"
    }
   ],
   "source": [
    "#Round up\n",
    "np.ceil(myarray)"
   ]
  },
  {
   "cell_type": "code",
   "execution_count": 20,
   "metadata": {},
   "outputs": [
    {
     "data": {
      "text/plain": [
       "0.5"
      ]
     },
     "execution_count": 20,
     "metadata": {},
     "output_type": "execute_result"
    }
   ],
   "source": [
    "#Reciprocal\n",
    "np.reciprocal(2.)"
   ]
  },
  {
   "cell_type": "code",
   "execution_count": 21,
   "metadata": {},
   "outputs": [
    {
     "data": {
      "text/plain": [
       "0.3333333333333333"
      ]
     },
     "execution_count": 21,
     "metadata": {},
     "output_type": "execute_result"
    }
   ],
   "source": [
    "np.reciprocal(3.)"
   ]
  },
  {
   "cell_type": "code",
   "execution_count": 22,
   "metadata": {},
   "outputs": [
    {
     "data": {
      "text/plain": [
       "array([1., 3., 5.])"
      ]
     },
     "execution_count": 22,
     "metadata": {},
     "output_type": "execute_result"
    }
   ],
   "source": [
    "#Real numbers\n",
    "a = np.array([1+2j, 3+4j, 5+6j])\n",
    "a.real"
   ]
  },
  {
   "cell_type": "code",
   "execution_count": 23,
   "metadata": {},
   "outputs": [
    {
     "data": {
      "text/plain": [
       "(1-2j)"
      ]
     },
     "execution_count": 23,
     "metadata": {},
     "output_type": "execute_result"
    }
   ],
   "source": [
    "#Conjugate\n",
    "np.conjugate(1+2j)"
   ]
  },
  {
   "cell_type": "code",
   "execution_count": 24,
   "metadata": {},
   "outputs": [
    {
     "data": {
      "text/plain": [
       "array([[1., 0.],\n",
       "       [0., 1.]])"
      ]
     },
     "execution_count": 24,
     "metadata": {},
     "output_type": "execute_result"
    }
   ],
   "source": [
    "np.eye(2)"
   ]
  },
  {
   "cell_type": "code",
   "execution_count": 25,
   "metadata": {},
   "outputs": [
    {
     "data": {
      "text/plain": [
       "array([[1.-1.j, 0.-0.j],\n",
       "       [0.-0.j, 1.-1.j]])"
      ]
     },
     "execution_count": 25,
     "metadata": {},
     "output_type": "execute_result"
    }
   ],
   "source": [
    "x = np.eye(2) + 1j * np.eye(2)\n",
    "np.conjugate(x)"
   ]
  },
  {
   "cell_type": "code",
   "execution_count": null,
   "metadata": {},
   "outputs": [],
   "source": []
  }
 ],
 "metadata": {
  "kernelspec": {
   "display_name": "Python 2",
   "language": "python",
   "name": "python2"
  },
  "language_info": {
   "codemirror_mode": {
    "name": "ipython",
    "version": 2
   },
   "file_extension": ".py",
   "mimetype": "text/x-python",
   "name": "python",
   "nbconvert_exporter": "python",
   "pygments_lexer": "ipython2",
   "version": "2.7.15"
  }
 },
 "nbformat": 4,
 "nbformat_minor": 2
}
